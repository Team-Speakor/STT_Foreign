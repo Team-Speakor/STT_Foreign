{
 "cells": [
  {
   "cell_type": "code",
   "execution_count": null,
   "id": "e3c1c37e",
   "metadata": {},
   "outputs": [],
   "source": [
    "import os\n",
    "\n",
    "# 메모리 단편화 방지 설정\n",
    "os.environ[\"PYTORCH_CUDA_ALLOC_CONF\"] = \"expandable_segments:True\"\n",
    "\n",
    "# (필요시) 패키지 설치\n",
    "# !pip install torch transformers datasets evaluate pandas numpy"
   ]
  }
 ],
 "metadata": {
  "language_info": {
   "name": "python"
  }
 },
 "nbformat": 4,
 "nbformat_minor": 5
}
