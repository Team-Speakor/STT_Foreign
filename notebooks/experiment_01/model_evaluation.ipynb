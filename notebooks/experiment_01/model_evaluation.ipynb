{
 "cells": [
  {
   "cell_type": "code",
   "execution_count": null,
   "id": "b4fea477",
   "metadata": {},
   "outputs": [],
   "source": [
    "# 평가만 별도 수행\n",
    "# 이미 학습된 모델 및 processor 불러오기\n",
    "from transformers import Wav2Vec2ForCTC, Wav2Vec2Processor\n",
    "\n",
    "MODEL_ID = \"./wav2vec2-korean-asr\"  # 또는 저장된 best model 경로\n",
    "processor = Wav2Vec2Processor.from_pretrained(MODEL_ID)\n",
    "model = Wav2Vec2ForCTC.from_pretrained(MODEL_ID)\n",
    "\n",
    "# 평가\n",
    "results = trainer.evaluate()\n",
    "print(\"평가 결과:\", results)\n",
    "\n",
    "# 예측 샘플 출력\n",
    "preds = trainer.predict(valid_dataset)\n",
    "for i in range(5):\n",
    "    print(\"실제:\", processor.decode(preds.label_ids[i], group_tokens=False))\n",
    "    print(\"예측:\", processor.decode(np.argmax(preds.predictions[i], axis=-1)))\n",
    "    print(\"===\")"
   ]
  }
 ],
 "metadata": {
  "language_info": {
   "name": "python"
  }
 },
 "nbformat": 4,
 "nbformat_minor": 5
}
